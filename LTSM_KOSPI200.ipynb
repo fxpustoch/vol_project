{
  "nbformat": 4,
  "nbformat_minor": 0,
  "metadata": {
    "colab": {
      "name": "LTSM_KOSPI200.ipynb",
      "provenance": [],
      "collapsed_sections": [],
      "authorship_tag": "ABX9TyPIyHIQfwGHEUyCC2G+UyqH",
      "include_colab_link": true
    },
    "kernelspec": {
      "name": "python3",
      "display_name": "Python 3"
    }
  },
  "cells": [
    {
      "cell_type": "markdown",
      "metadata": {
        "id": "view-in-github",
        "colab_type": "text"
      },
      "source": [
        "<a href=\"https://colab.research.google.com/github/fxpustoch/vol_project/blob/master/LTSM_KOSPI200.ipynb\" target=\"_parent\"><img src=\"https://colab.research.google.com/assets/colab-badge.svg\" alt=\"Open In Colab\"/></a>"
      ]
    },
    {
      "cell_type": "code",
      "metadata": {
        "id": "5BgU2Fvq-EXq",
        "colab_type": "code",
        "colab": {}
      },
      "source": [
        "import numpy as np\n",
        "import matplotlib.pyplot as plt\n",
        "import pandas as pd\n",
        "import os"
      ],
      "execution_count": 0,
      "outputs": []
    },
    {
      "cell_type": "markdown",
      "metadata": {
        "id": "owk9RjgzYQF1",
        "colab_type": "text"
      },
      "source": [
        "### **Reference:**\n",
        "\n",
        "https://www.kdnuggets.com/2018/11/keras-long-short-term-memory-lstm-model-predict-stock-prices.html"
      ]
    },
    {
      "cell_type": "markdown",
      "metadata": {
        "id": "vUq0JUgh_Jvi",
        "colab_type": "text"
      },
      "source": [
        "### Loading the dataset\n",
        "\n"
      ]
    },
    {
      "cell_type": "code",
      "metadata": {
        "id": "YYV5E8MA-Jfs",
        "colab_type": "code",
        "outputId": "e38ebd1c-4b3b-4796-fa17-80497816420c",
        "colab": {
          "resources": {
            "http://localhost:8080/nbextensions/google.colab/files.js": {
              "data": "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",
              "ok": true,
              "headers": [
                [
                  "content-type",
                  "application/javascript"
                ]
              ],
              "status": 200,
              "status_text": ""
            }
          },
          "base_uri": "https://localhost:8080/",
          "height": 74
        }
      },
      "source": [
        "from google.colab import files\n",
        "uploaded = files.upload()"
      ],
      "execution_count": 0,
      "outputs": [
        {
          "output_type": "display_data",
          "data": {
            "text/html": [
              "\n",
              "     <input type=\"file\" id=\"files-82c9adcf-928f-4a25-bfbc-809ecf921356\" name=\"files[]\" multiple disabled />\n",
              "     <output id=\"result-82c9adcf-928f-4a25-bfbc-809ecf921356\">\n",
              "      Upload widget is only available when the cell has been executed in the\n",
              "      current browser session. Please rerun this cell to enable.\n",
              "      </output>\n",
              "      <script src=\"/nbextensions/google.colab/files.js\"></script> "
            ],
            "text/plain": [
              "<IPython.core.display.HTML object>"
            ]
          },
          "metadata": {
            "tags": []
          }
        },
        {
          "output_type": "stream",
          "text": [
            "Saving KOSPI 200 Historical Data.csv to KOSPI 200 Historical Data (1).csv\n"
          ],
          "name": "stdout"
        }
      ]
    },
    {
      "cell_type": "code",
      "metadata": {
        "id": "Ajw6N4gZCknz",
        "colab_type": "code",
        "colab": {}
      },
      "source": [
        "dataset = pd.read_csv('KOSPI 200 Historical Data.csv')\n",
        "dataset_values = dataset.iloc[:, 1:2].values"
      ],
      "execution_count": 0,
      "outputs": []
    },
    {
      "cell_type": "markdown",
      "metadata": {
        "id": "fHtXvWOJ_JST",
        "colab_type": "text"
      },
      "source": [
        ""
      ]
    },
    {
      "cell_type": "code",
      "metadata": {
        "id": "jS78EfM--K6_",
        "colab_type": "code",
        "outputId": "1af6c2e1-2989-4cb9-f845-163364c23170",
        "colab": {
          "base_uri": "https://localhost:8080/",
          "height": 195
        }
      },
      "source": [
        "dataset.head()"
      ],
      "execution_count": 0,
      "outputs": [
        {
          "output_type": "execute_result",
          "data": {
            "text/html": [
              "<div>\n",
              "<style scoped>\n",
              "    .dataframe tbody tr th:only-of-type {\n",
              "        vertical-align: middle;\n",
              "    }\n",
              "\n",
              "    .dataframe tbody tr th {\n",
              "        vertical-align: top;\n",
              "    }\n",
              "\n",
              "    .dataframe thead th {\n",
              "        text-align: right;\n",
              "    }\n",
              "</style>\n",
              "<table border=\"1\" class=\"dataframe\">\n",
              "  <thead>\n",
              "    <tr style=\"text-align: right;\">\n",
              "      <th></th>\n",
              "      <th>Date</th>\n",
              "      <th>Price</th>\n",
              "      <th>Open</th>\n",
              "      <th>High</th>\n",
              "      <th>Low</th>\n",
              "      <th>Vol.</th>\n",
              "      <th>Change %</th>\n",
              "    </tr>\n",
              "  </thead>\n",
              "  <tbody>\n",
              "    <tr>\n",
              "      <th>0</th>\n",
              "      <td>Jun 03, 2020</td>\n",
              "      <td>282.22</td>\n",
              "      <td>279.14</td>\n",
              "      <td>282.37</td>\n",
              "      <td>279.14</td>\n",
              "      <td>81.18K</td>\n",
              "      <td>2.22%</td>\n",
              "    </tr>\n",
              "    <tr>\n",
              "      <th>1</th>\n",
              "      <td>Jun 02, 2020</td>\n",
              "      <td>276.08</td>\n",
              "      <td>272.65</td>\n",
              "      <td>276.45</td>\n",
              "      <td>272.22</td>\n",
              "      <td>247.72K</td>\n",
              "      <td>1.06%</td>\n",
              "    </tr>\n",
              "    <tr>\n",
              "      <th>2</th>\n",
              "      <td>Jun 01, 2020</td>\n",
              "      <td>273.19</td>\n",
              "      <td>269.29</td>\n",
              "      <td>273.39</td>\n",
              "      <td>268.93</td>\n",
              "      <td>171.51M</td>\n",
              "      <td>1.81%</td>\n",
              "    </tr>\n",
              "    <tr>\n",
              "      <th>3</th>\n",
              "      <td>May 29, 2020</td>\n",
              "      <td>268.32</td>\n",
              "      <td>266.62</td>\n",
              "      <td>269.61</td>\n",
              "      <td>265.23</td>\n",
              "      <td>269.47M</td>\n",
              "      <td>0.01%</td>\n",
              "    </tr>\n",
              "    <tr>\n",
              "      <th>4</th>\n",
              "      <td>May 28, 2020</td>\n",
              "      <td>268.29</td>\n",
              "      <td>270.17</td>\n",
              "      <td>271.44</td>\n",
              "      <td>264.85</td>\n",
              "      <td>248.93M</td>\n",
              "      <td>0.24%</td>\n",
              "    </tr>\n",
              "  </tbody>\n",
              "</table>\n",
              "</div>"
            ],
            "text/plain": [
              "           Date   Price    Open    High     Low     Vol. Change %\n",
              "0  Jun 03, 2020  282.22  279.14  282.37  279.14   81.18K    2.22%\n",
              "1  Jun 02, 2020  276.08  272.65  276.45  272.22  247.72K    1.06%\n",
              "2  Jun 01, 2020  273.19  269.29  273.39  268.93  171.51M    1.81%\n",
              "3  May 29, 2020  268.32  266.62  269.61  265.23  269.47M    0.01%\n",
              "4  May 28, 2020  268.29  270.17  271.44  264.85  248.93M    0.24%"
            ]
          },
          "metadata": {
            "tags": []
          },
          "execution_count": 72
        }
      ]
    },
    {
      "cell_type": "code",
      "metadata": {
        "id": "o_LLZwjA2DEJ",
        "colab_type": "code",
        "colab": {}
      },
      "source": [
        "from datetime import datetime\n",
        "dates_list = pd.to_datetime(dataset[\"Date\"])\n"
      ],
      "execution_count": 0,
      "outputs": []
    },
    {
      "cell_type": "code",
      "metadata": {
        "id": "V6TuFa90-ZAQ",
        "colab_type": "code",
        "outputId": "06624188-d4e1-4ede-cc60-612a4b75f672",
        "colab": {
          "base_uri": "https://localhost:8080/",
          "height": 265
        }
      },
      "source": [
        "plt.clf()\n",
        "\n",
        "x = dates_list[0:252]\n",
        "y = dataset[0:252].iloc[:,1].values\n",
        "\n",
        "plt.plot(x,y)\n",
        "\n",
        "plt.show()"
      ],
      "execution_count": 0,
      "outputs": [
        {
          "output_type": "display_data",
          "data": {
            "image/png": "[encoded data removed]",
            "text/plain": [
              "<Figure size 432x288 with 1 Axes>"
            ]
          },
          "metadata": {
            "tags": [],
            "needs_background": "light"
          }
        }
      ]
    },
    {
      "cell_type": "markdown",
      "metadata": {
        "id": "gkgyPycjWuoc",
        "colab_type": "text"
      },
      "source": [
        "### Create Train & Test Sets"
      ]
    },
    {
      "cell_type": "code",
      "metadata": {
        "id": "sIvcf5m6WrsG",
        "colab_type": "code",
        "outputId": "c30a39d1-173a-464e-840d-ddc4a5c188b4",
        "colab": {
          "base_uri": "https://localhost:8080/",
          "height": 50
        }
      },
      "source": [
        "## Split the data in 20%/80% sets\n",
        "train_data_size = int(dataset.shape[0]*0.8)\n",
        "test_data_size  = int(dataset.shape[0]*0.2)\n",
        "print(\"20% of the data_set is\", test_data_size, \"values\")\n",
        "print(\"80% of the data_set is\", train_data_size, \"values\")"
      ],
      "execution_count": 0,
      "outputs": [
        {
          "output_type": "stream",
          "text": [
            "20% of the data_set is 960 values\n",
            "80% of the data_set is 3840 values\n"
          ],
          "name": "stdout"
        }
      ]
    },
    {
      "cell_type": "code",
      "metadata": {
        "id": "sMYaJnYzXJ5a",
        "colab_type": "code",
        "outputId": "f961d2b5-dd18-4f78-8156-6adfe897f98d",
        "colab": {
          "base_uri": "https://localhost:8080/",
          "height": 50
        }
      },
      "source": [
        "## let's split the data in train and test sets:\n",
        "dataset_test = dataset[0:test_data_size]\n",
        "print(dataset_train.shape)\n",
        "dataset_train = dataset[test_data_size+1:test_data_size+train_data_size +1]\n",
        "print(dataset_test.shape)"
      ],
      "execution_count": 0,
      "outputs": [
        {
          "output_type": "stream",
          "text": [
            "(3840, 7)\n",
            "(960, 7)\n"
          ],
          "name": "stdout"
        }
      ]
    },
    {
      "cell_type": "code",
      "metadata": {
        "id": "h42HsmufXMBR",
        "colab_type": "code",
        "colab": {}
      },
      "source": [
        "training_set = dataset_train.iloc[:, 1:2].values"
      ],
      "execution_count": 0,
      "outputs": []
    },
    {
      "cell_type": "markdown",
      "metadata": {
        "id": "tD1VdCI4XQmx",
        "colab_type": "text"
      },
      "source": [
        "### Feature Scaling"
      ]
    },
    {
      "cell_type": "code",
      "metadata": {
        "id": "kKpuiBXVXTqQ",
        "colab_type": "code",
        "colab": {}
      },
      "source": [
        "from sklearn.preprocessing import MinMaxScaler\n",
        "sc = MinMaxScaler(feature_range = (0, 1))\n",
        "training_set_scaled = sc.fit_transform(training_set)"
      ],
      "execution_count": 0,
      "outputs": []
    },
    {
      "cell_type": "code",
      "metadata": {
        "id": "44AB3BTnXV-I",
        "colab_type": "code",
        "colab": {}
      },
      "source": [
        "X_train = []\n",
        "y_train = []\n",
        "for i in range(20, train_data_size):\n",
        "    X_train.append(training_set_scaled[i-20:i, 0])\n",
        "    y_train.append(training_set_scaled[i, 0])\n",
        "X_train, y_train = np.array(X_train), np.array(y_train)\n",
        "\n",
        "X_train = np.reshape(X_train, (X_train.shape[0], X_train.shape[1], 1))"
      ],
      "execution_count": 0,
      "outputs": []
    },
    {
      "cell_type": "code",
      "metadata": {
        "id": "Ej2CDDBJXXvo",
        "colab_type": "code",
        "outputId": "3f437fb4-be80-4736-d350-4fdf27353157",
        "colab": {
          "base_uri": "https://localhost:8080/",
          "height": 34
        }
      },
      "source": [
        "print(y_train)"
      ],
      "execution_count": 0,
      "outputs": [
        {
          "output_type": "stream",
          "text": [
            "[0.78438395 0.78185572 0.78206641 ... 0.03097084 0.03109725 0.02241699]\n"
          ],
          "name": "stdout"
        }
      ]
    },
    {
      "cell_type": "markdown",
      "metadata": {
        "id": "7Kr4QfpOXbGH",
        "colab_type": "text"
      },
      "source": [
        "### Building LTSM Model"
      ]
    },
    {
      "cell_type": "code",
      "metadata": {
        "id": "OvVLsd1wXZrZ",
        "colab_type": "code",
        "colab": {}
      },
      "source": [
        "import keras\n",
        "\n",
        "from keras.models import Sequential\n",
        "from keras.layers import Dense\n",
        "from keras.layers import LSTM\n",
        "from keras.layers import Dropout"
      ],
      "execution_count": 0,
      "outputs": []
    },
    {
      "cell_type": "code",
      "metadata": {
        "id": "N_xYozOKXhk3",
        "colab_type": "code",
        "outputId": "afce1e20-af1a-4983-cf9d-effa9916e251",
        "colab": {
          "base_uri": "https://localhost:8080/",
          "height": 1000
        }
      },
      "source": [
        "regressor = Sequential()\n",
        "\n",
        "regressor.add(LSTM(units = 50, return_sequences = True, input_shape = (X_train.shape[1], 1)))\n",
        "regressor.add(Dropout(0.2))\n",
        "\n",
        "regressor.add(LSTM(units = 50, return_sequences = True))\n",
        "regressor.add(Dropout(0.2))\n",
        "\n",
        "regressor.add(LSTM(units = 50, return_sequences = True))\n",
        "regressor.add(Dropout(0.2))\n",
        "\n",
        "regressor.add(LSTM(units = 50))\n",
        "regressor.add(Dropout(0.2))\n",
        "\n",
        "regressor.add(Dense(units = 1))\n",
        "\n",
        "regressor.compile(optimizer = 'adam', loss = 'mean_squared_error')\n",
        "\n",
        "regressor.fit(X_train, y_train, epochs = 100, batch_size = 32)"
      ],
      "execution_count": 0,
      "outputs": [
        {
          "output_type": "stream",
          "text": [
            "Epoch 1/100\n",
            "3820/3820 [==============================] - 6s 2ms/step - loss: 0.0193\n",
            "Epoch 2/100\n",
            "3820/3820 [==============================] - 5s 1ms/step - loss: 0.0041\n",
            "Epoch 3/100\n",
            "3820/3820 [==============================] - 5s 1ms/step - loss: 0.0040\n",
            "Epoch 4/100\n",
            "3820/3820 [==============================] - 5s 1ms/step - loss: 0.0041\n",
            "Epoch 5/100\n",
            "3820/3820 [==============================] - 5s 1ms/step - loss: 0.0041\n",
            "Epoch 6/100\n",
            "3820/3820 [==============================] - 5s 1ms/step - loss: 0.0033\n",
            "Epoch 7/100\n",
            "3820/3820 [==============================] - 5s 1ms/step - loss: 0.0031\n",
            "Epoch 8/100\n",
            "3820/3820 [==============================] - 5s 1ms/step - loss: 0.0031\n",
            "Epoch 9/100\n",
            "3820/3820 [==============================] - 5s 1ms/step - loss: 0.0030\n",
            "Epoch 10/100\n",
            "3820/3820 [==============================] - 5s 1ms/step - loss: 0.0029\n",
            "Epoch 11/100\n",
            "3820/3820 [==============================] - 5s 1ms/step - loss: 0.0027\n",
            "Epoch 12/100\n",
            "3820/3820 [==============================] - 5s 1ms/step - loss: 0.0027\n",
            "Epoch 13/100\n",
            "3820/3820 [==============================] - 5s 1ms/step - loss: 0.0024\n",
            "Epoch 14/100\n",
            "3820/3820 [==============================] - 5s 1ms/step - loss: 0.0026\n",
            "Epoch 15/100\n",
            "3820/3820 [==============================] - 5s 1ms/step - loss: 0.0024\n",
            "Epoch 16/100\n",
            "3820/3820 [==============================] - 5s 1ms/step - loss: 0.0022\n",
            "Epoch 17/100\n",
            "3820/3820 [==============================] - 5s 1ms/step - loss: 0.0022\n",
            "Epoch 18/100\n",
            "3820/3820 [==============================] - 5s 1ms/step - loss: 0.0023\n",
            "Epoch 19/100\n",
            "3820/3820 [==============================] - 5s 1ms/step - loss: 0.0021\n",
            "Epoch 20/100\n",
            "3820/3820 [==============================] - 5s 1ms/step - loss: 0.0021\n",
            "Epoch 21/100\n",
            "3820/3820 [==============================] - 5s 1ms/step - loss: 0.0019\n",
            "Epoch 22/100\n",
            "3820/3820 [==============================] - 5s 1ms/step - loss: 0.0020\n",
            "Epoch 23/100\n",
            "3820/3820 [==============================] - 5s 1ms/step - loss: 0.0020\n",
            "Epoch 24/100\n",
            "3820/3820 [==============================] - 5s 1ms/step - loss: 0.0018\n",
            "Epoch 25/100\n",
            "3820/3820 [==============================] - 5s 1ms/step - loss: 0.0017\n",
            "Epoch 26/100\n",
            "3820/3820 [==============================] - 5s 1ms/step - loss: 0.0016\n",
            "Epoch 27/100\n",
            "3820/3820 [==============================] - 5s 1ms/step - loss: 0.0016\n",
            "Epoch 28/100\n",
            "3820/3820 [==============================] - 5s 1ms/step - loss: 0.0016\n",
            "Epoch 29/100\n",
            "3820/3820 [==============================] - 5s 1ms/step - loss: 0.0015\n",
            "Epoch 30/100\n",
            "3820/3820 [==============================] - 6s 1ms/step - loss: 0.0014\n",
            "Epoch 31/100\n",
            "3820/3820 [==============================] - 5s 1ms/step - loss: 0.0014\n",
            "Epoch 32/100\n",
            "3820/3820 [==============================] - 5s 1ms/step - loss: 0.0014\n",
            "Epoch 33/100\n",
            "3820/3820 [==============================] - 6s 1ms/step - loss: 0.0014\n",
            "Epoch 34/100\n",
            "3820/3820 [==============================] - 5s 1ms/step - loss: 0.0013\n",
            "Epoch 35/100\n",
            "3820/3820 [==============================] - 5s 1ms/step - loss: 0.0013\n",
            "Epoch 36/100\n",
            "3820/3820 [==============================] - 5s 1ms/step - loss: 0.0012\n",
            "Epoch 37/100\n",
            "3820/3820 [==============================] - 5s 1ms/step - loss: 0.0013\n",
            "Epoch 38/100\n",
            "3820/3820 [==============================] - 5s 1ms/step - loss: 0.0013\n",
            "Epoch 39/100\n",
            "3820/3820 [==============================] - 5s 1ms/step - loss: 0.0012\n",
            "Epoch 40/100\n",
            "3820/3820 [==============================] - 5s 1ms/step - loss: 0.0012\n",
            "Epoch 41/100\n",
            "3820/3820 [==============================] - 5s 1ms/step - loss: 0.0012\n",
            "Epoch 42/100\n",
            "3820/3820 [==============================] - 5s 1ms/step - loss: 0.0012\n",
            "Epoch 43/100\n",
            "3820/3820 [==============================] - 5s 1ms/step - loss: 0.0012\n",
            "Epoch 44/100\n",
            "3820/3820 [==============================] - 6s 1ms/step - loss: 0.0011\n",
            "Epoch 45/100\n",
            "3820/3820 [==============================] - 5s 1ms/step - loss: 0.0011\n",
            "Epoch 46/100\n",
            "3820/3820 [==============================] - 6s 1ms/step - loss: 0.0012\n",
            "Epoch 47/100\n",
            "3820/3820 [==============================] - 5s 1ms/step - loss: 0.0012\n",
            "Epoch 48/100\n",
            "3820/3820 [==============================] - 5s 1ms/step - loss: 0.0011\n",
            "Epoch 49/100\n",
            "3820/3820 [==============================] - 5s 1ms/step - loss: 0.0011\n",
            "Epoch 50/100\n",
            "3820/3820 [==============================] - 5s 1ms/step - loss: 0.0010\n",
            "Epoch 51/100\n",
            "3820/3820 [==============================] - 5s 1ms/step - loss: 0.0011\n",
            "Epoch 52/100\n",
            "3820/3820 [==============================] - 5s 1ms/step - loss: 0.0010\n",
            "Epoch 53/100\n",
            "3820/3820 [==============================] - 5s 1ms/step - loss: 0.0010\n",
            "Epoch 54/100\n",
            "3820/3820 [==============================] - 5s 1ms/step - loss: 9.8391e-04\n",
            "Epoch 55/100\n",
            "3820/3820 [==============================] - 6s 1ms/step - loss: 0.0010\n",
            "Epoch 56/100\n",
            "3820/3820 [==============================] - 5s 1ms/step - loss: 9.7935e-04\n",
            "Epoch 57/100\n",
            "3820/3820 [==============================] - 5s 1ms/step - loss: 0.0010\n",
            "Epoch 58/100\n",
            "3820/3820 [==============================] - 5s 1ms/step - loss: 0.0010\n",
            "Epoch 59/100\n",
            "3820/3820 [==============================] - 5s 1ms/step - loss: 9.8525e-04\n",
            "Epoch 60/100\n",
            "3820/3820 [==============================] - 5s 1ms/step - loss: 9.6226e-04\n",
            "Epoch 61/100\n",
            "3820/3820 [==============================] - 5s 1ms/step - loss: 0.0011\n",
            "Epoch 62/100\n",
            "3820/3820 [==============================] - 5s 1ms/step - loss: 9.7212e-04\n",
            "Epoch 63/100\n",
            "3820/3820 [==============================] - 5s 1ms/step - loss: 0.0010\n",
            "Epoch 64/100\n",
            "3820/3820 [==============================] - 5s 1ms/step - loss: 9.9046e-04\n",
            "Epoch 65/100\n",
            "3820/3820 [==============================] - 5s 1ms/step - loss: 9.7003e-04\n",
            "Epoch 66/100\n",
            "3820/3820 [==============================] - 5s 1ms/step - loss: 9.6938e-04\n",
            "Epoch 67/100\n",
            "3820/3820 [==============================] - 5s 1ms/step - loss: 9.5195e-04\n",
            "Epoch 68/100\n",
            "3820/3820 [==============================] - 5s 1ms/step - loss: 9.5922e-04\n",
            "Epoch 69/100\n",
            "3820/3820 [==============================] - 5s 1ms/step - loss: 0.0010\n",
            "Epoch 70/100\n",
            "3820/3820 [==============================] - 6s 1ms/step - loss: 9.2151e-04\n",
            "Epoch 71/100\n",
            "3820/3820 [==============================] - 5s 1ms/step - loss: 9.5437e-04\n",
            "Epoch 72/100\n",
            "3820/3820 [==============================] - 5s 1ms/step - loss: 8.8047e-04\n",
            "Epoch 73/100\n",
            "3820/3820 [==============================] - 5s 1ms/step - loss: 8.3828e-04\n",
            "Epoch 74/100\n",
            "3820/3820 [==============================] - 5s 1ms/step - loss: 9.1190e-04\n",
            "Epoch 75/100\n",
            "3820/3820 [==============================] - 5s 1ms/step - loss: 9.3987e-04\n",
            "Epoch 76/100\n",
            "3820/3820 [==============================] - 5s 1ms/step - loss: 9.0539e-04\n",
            "Epoch 77/100\n",
            "3820/3820 [==============================] - 5s 1ms/step - loss: 9.1283e-04\n",
            "Epoch 78/100\n",
            "3820/3820 [==============================] - 5s 1ms/step - loss: 8.3697e-04\n",
            "Epoch 79/100\n",
            "3820/3820 [==============================] - 5s 1ms/step - loss: 9.3740e-04\n",
            "Epoch 80/100\n",
            "3820/3820 [==============================] - 5s 1ms/step - loss: 9.1482e-04\n",
            "Epoch 81/100\n",
            "3820/3820 [==============================] - 5s 1ms/step - loss: 8.0331e-04\n",
            "Epoch 82/100\n",
            "3820/3820 [==============================] - 5s 1ms/step - loss: 8.3285e-04\n",
            "Epoch 83/100\n",
            "3820/3820 [==============================] - 5s 1ms/step - loss: 8.2446e-04\n",
            "Epoch 84/100\n",
            "3820/3820 [==============================] - 5s 1ms/step - loss: 8.6883e-04\n",
            "Epoch 85/100\n",
            "3820/3820 [==============================] - 5s 1ms/step - loss: 8.7590e-04\n",
            "Epoch 86/100\n",
            "3820/3820 [==============================] - 5s 1ms/step - loss: 8.7942e-04\n",
            "Epoch 87/100\n",
            "3820/3820 [==============================] - 5s 1ms/step - loss: 8.9565e-04\n",
            "Epoch 88/100\n",
            "3820/3820 [==============================] - 5s 1ms/step - loss: 8.1156e-04\n",
            "Epoch 89/100\n",
            "3820/3820 [==============================] - 5s 1ms/step - loss: 8.6902e-04\n",
            "Epoch 90/100\n",
            "3820/3820 [==============================] - 5s 1ms/step - loss: 8.7161e-04\n",
            "Epoch 91/100\n",
            "3820/3820 [==============================] - 5s 1ms/step - loss: 7.8940e-04\n",
            "Epoch 92/100\n",
            "3820/3820 [==============================] - 5s 1ms/step - loss: 8.2039e-04\n",
            "Epoch 93/100\n",
            "3820/3820 [==============================] - 5s 1ms/step - loss: 8.8195e-04\n",
            "Epoch 94/100\n",
            "3820/3820 [==============================] - 5s 1ms/step - loss: 7.8340e-04\n",
            "Epoch 95/100\n",
            "3820/3820 [==============================] - 5s 1ms/step - loss: 7.9031e-04\n",
            "Epoch 96/100\n",
            "3820/3820 [==============================] - 5s 1ms/step - loss: 8.3542e-04\n",
            "Epoch 97/100\n",
            "3820/3820 [==============================] - 5s 1ms/step - loss: 8.9283e-04\n",
            "Epoch 98/100\n",
            "3820/3820 [==============================] - 5s 1ms/step - loss: 9.3850e-04\n",
            "Epoch 99/100\n",
            "3820/3820 [==============================] - 5s 1ms/step - loss: 8.3227e-04\n",
            "Epoch 100/100\n",
            "3820/3820 [==============================] - 5s 1ms/step - loss: 8.0387e-04\n"
          ],
          "name": "stdout"
        },
        {
          "output_type": "execute_result",
          "data": {
            "text/plain": [
              "<keras.callbacks.callbacks.History at 0x7f22d5788e10>"
            ]
          },
          "metadata": {
            "tags": []
          },
          "execution_count": 81
        }
      ]
    },
    {
      "cell_type": "code",
      "metadata": {
        "id": "Ohvi2f2IXl1Y",
        "colab_type": "code",
        "colab": {}
      },
      "source": [
        ""
      ],
      "execution_count": 0,
      "outputs": []
    },
    {
      "cell_type": "code",
      "metadata": {
        "colab_type": "code",
        "id": "OivGkFs-dYHN",
        "colab": {}
      },
      "source": [
        "X_test = []\n",
        "y_test = []\n",
        "\n",
        "test_set = dataset_test.iloc[:, 1:2].values\n",
        "inputs = test_set.reshape(-1,1)\n",
        "inputs = sc. transform(inputs)\n",
        "\n",
        "for i in range(20, test_data_size):\n",
        "    X_test.append(inputs[i-20:i, 0])\n",
        "    \n",
        "X_test, y_test = np.array(X_test), np.array(y_test)\n",
        "\n",
        "X_test = np.reshape(X_test, (X_test.shape[0], X_test.shape[1], 1))\n",
        "\n",
        "real_stock_price = dataset_test.iloc[0:, 1:2].values\n",
        "\n",
        "predicted_stock_price = regressor.predict(X_test)\n",
        "predicted_stock_price = sc.inverse_transform(predicted_stock_price).tolist()"
      ],
      "execution_count": 0,
      "outputs": []
    },
    {
      "cell_type": "code",
      "metadata": {
        "id": "Bui8OUQZmGHY",
        "colab_type": "code",
        "colab": {}
      },
      "source": [
        "time = pd.to_datetime(dataset[\"Date\"][0:test_data_size-20])"
      ],
      "execution_count": 0,
      "outputs": []
    },
    {
      "cell_type": "code",
      "metadata": {
        "id": "EdsjyO8cn6KW",
        "colab_type": "code",
        "outputId": "8e7974bf-9b17-445c-89d5-401f063c1f58",
        "colab": {
          "base_uri": "https://localhost:8080/",
          "height": 54
        }
      },
      "source": [
        "print(predicted_stock_price)"
      ],
      "execution_count": 0,
      "outputs": [
        {
          "output_type": "stream",
          "text": [
            "[[253.15065002441406], [252.87611389160156], [250.1509552001953], [254.06814575195312], [255.08401489257812], [253.52748107910156], [249.79151916503906], [250.9097442626953], [250.9326629638672], [248.84344482421875], [249.60757446289062], [252.2892303466797], [248.01092529296875], [245.7828369140625], [243.24696350097656], [245.44970703125], [245.1852264404297], [241.99758911132812], [242.51409912109375], [240.89654541015625], [234.25003051757812], [231.37310791015625], [228.02137756347656], [233.20462036132812], [233.32199096679688], [232.75877380371094], [229.84963989257812], [230.9413299560547], [224.57455444335938], [210.5282745361328], [210.6887664794922], [205.82936096191406], [211.7616729736328], [222.65469360351562], [230.07029724121094], [236.19924926757812], [242.7557830810547], [251.59661865234375], [259.9299011230469], [261.09326171875], [268.9378967285156], [276.7681884765625], [276.05322265625], [270.2019958496094], [267.7568054199219], [266.40325927734375], [272.10980224609375], [275.82269287109375], [278.6621398925781], [276.9201354980469], [284.29901123046875], [290.51416015625], [292.3565368652344], [291.81744384765625], [295.59490966796875], [297.3554992675781], [295.7185974121094], [295.4432678222656], [294.121337890625], [291.46685791015625], [292.07171630859375], [294.2635803222656], [288.42742919921875], [285.1203918457031], [281.28863525390625], [280.012451171875], [282.6398620605469], [287.39337158203125], [287.3466796875], [293.5541687011719], [298.600830078125], [296.416015625], [297.8955383300781], [297.6438903808594], [297.01458740234375], [294.6488952636719], [295.2409362792969], [294.6560363769531], [291.90234375], [289.13427734375], [285.1622314453125], [285.4306945800781], [284.0175476074219], [284.7957763671875], [284.9364318847656], [287.2567443847656], [289.0732421875], [288.5393371582031], [287.4734802246094], [288.888427734375], [289.9263000488281], [289.2197265625], [288.7594909667969], [288.947265625], [285.79693603515625], [284.90374755859375], [281.6454162597656], [277.1629333496094], [275.326416015625], [274.3980407714844], [273.04248046875], [270.2467956542969], [269.966064453125], [271.77581787109375], [273.23992919921875], [272.93389892578125], [275.80633544921875], [278.2439270019531], [277.96185302734375], [277.86602783203125], [276.2298583984375], [274.9544982910156], [277.509033203125], [281.3096008300781], [282.5697937011719], [282.40081787109375], [280.0528869628906], [277.6678466796875], [278.979248046875], [277.7711486816406], [278.42034912109375], [279.6741943359375], [280.0310363769531], [279.8238525390625], [278.5084533691406], [275.3514099121094], [272.69464111328125], [272.0363464355469], [273.49139404296875], [274.013916015625], [273.2861328125], [272.73895263671875], [272.47943115234375], [273.3439025878906], [271.21112060546875], [269.5741882324219], [271.3319396972656], [272.7410888671875], [271.3946228027344], [270.5892028808594], [268.6863098144531], [266.42791748046875], [267.6015319824219], [265.83843994140625], [264.5368957519531], [265.1385803222656], [269.62841796875], [270.4642639160156], [268.4163818359375], [270.22039794921875], [271.2181701660156], [273.6664123535156], [273.4717712402344], [272.87774658203125], [271.8141784667969], [270.3216552734375], [268.9606018066406], [268.83843994140625], [268.08111572265625], [266.2325439453125], [264.6717224121094], [263.12396240234375], [261.9765625], [259.8676452636719], [256.8492126464844], [256.4932556152344], [256.78302001953125], [253.686279296875], [253.02920532226562], [252.07858276367188], [250.84793090820312], [253.01242065429688], [254.24038696289062], [255.6370391845703], [255.84373474121094], [253.87806701660156], [252.3724365234375], [252.8492431640625], [251.93067932128906], [252.93038940429688], [253.13743591308594], [251.3467559814453], [250.28097534179688], [251.16127014160156], [254.20977783203125], [259.094482421875], [262.280517578125], [263.18768310546875], [265.0956115722656], [265.2373962402344], [268.208984375], [269.9598083496094], [270.1794738769531], [271.8805236816406], [271.63934326171875], [271.24798583984375], [268.5487060546875], [268.1313781738281], [270.20086669921875], [269.8603515625], [269.20574951171875], [268.48236083984375], [266.3487854003906], [264.9640808105469], [265.3687438964844], [269.6616516113281], [271.1433410644531], [269.3659362792969], [271.1618347167969], [273.35809326171875], [273.9693908691406], [273.9936828613281], [272.52178955078125], [271.90478515625], [272.17333984375], [272.1942443847656], [272.3841552734375], [271.9099426269531], [268.98907470703125], [267.1226501464844], [267.2277526855469], [267.90478515625], [269.037353515625], [269.5858459472656], [268.8778076171875], [266.03704833984375], [265.0013122558594], [264.9590148925781], [265.3159484863281], [262.42822265625], [261.17608642578125], [259.5516052246094], [261.26373291015625], [261.9151916503906], [261.7109680175781], [262.87969970703125], [263.68426513671875], [263.47210693359375], [262.5466613769531], [261.91552734375], [262.98846435546875], [265.9676513671875], [266.0708312988281], [265.64019775390625], [267.91949462890625], [268.2557678222656], [274.3047180175781], [277.2864990234375], [278.91522216796875], [280.9941711425781], [280.9361267089844], [282.068359375], [278.80816650390625], [278.4938049316406], [279.58306884765625], [281.7098693847656], [281.5711975097656], [281.11151123046875], [281.0627746582031], [284.4073181152344], [285.69940185546875], [284.6183776855469], [283.5151062011719], [282.8869323730469], [283.23492431640625], [282.50775146484375], [281.8392028808594], [281.915771484375], [281.63665771484375], [281.105224609375], [278.2287902832031], [276.341064453125], [273.5535888671875], [271.7710266113281], [272.9774169921875], [273.7494812011719], [273.5065002441406], [277.2727966308594], [278.241455078125], [276.26947021484375], [275.58746337890625], [276.0301208496094], [276.2395935058594], [273.8890380859375], [272.509765625], [273.64324951171875], [272.3290710449219], [271.299072265625], [273.9537353515625], [275.7442932128906], [276.2124328613281], [277.6058654785156], [279.138916015625], [283.0572814941406], [283.57183837890625], [283.9512939453125], [284.0732116699219], [283.9563903808594], [283.8966369628906], [281.4128112792969], [281.1945495605469], [280.16204833984375], [282.9564514160156], [281.3301086425781], [279.2833557128906], [277.8905029296875], [277.3974304199219], [280.2811279296875], [281.2955017089844], [281.1010437011719], [281.527099609375], [279.3876647949219], [277.7085876464844], [277.5721130371094], [274.2432861328125], [271.0], [269.5357666015625], [270.29400634765625], [270.4731750488281], [268.829833984375], [267.7421569824219], [266.8620300292969], [263.4007568359375], [263.60272216796875], [263.25421142578125], [262.92138671875], [258.8193054199219], [258.4778747558594], [256.7288513183594], [254.46934509277344], [255.36279296875], [258.6200256347656], [258.6441955566406], [258.2691955566406], [260.6903076171875], [262.3181457519531], [262.35400390625], [263.87127685546875], [263.1827392578125], [263.45263671875], [263.2261047363281], [265.68450927734375], [265.9892578125], [263.0326843261719], [262.3348693847656], [264.7204284667969], [264.8873291015625], [267.25799560546875], [269.432373046875], [271.87640380859375], [269.2273254394531], [269.90740966796875], [270.4232177734375], [269.4877014160156], [267.3972473144531], [264.4332580566406], [264.580078125], [265.3907775878906], [266.2945556640625], [268.2223815917969], [268.3659362792969], [268.0863952636719], [266.3381652832031], [266.41119384765625], [268.0940246582031], [268.4417419433594], [268.7122497558594], [267.6815185546875], [268.07391357421875], [267.4231262207031], [268.7572021484375], [262.9137878417969], [260.99334716796875], [260.4022216796875], [258.7438049316406], [259.5614929199219], [262.8247375488281], [267.0078430175781], [268.771728515625], [273.6460266113281], [274.93585205078125], [274.02447509765625], [275.6268615722656], [274.440185546875], [273.87457275390625], [275.37744140625], [272.9895935058594], [280.62786865234375], [285.07452392578125], [285.93231201171875], [286.08258056640625], [289.9278564453125], [293.9912109375], [294.8047180175781], [296.0162658691406], [295.2699890136719], [293.71533203125], [291.6871032714844], [290.8415832519531], [290.07818603515625], [291.16998291015625], [287.9866638183594], [286.5997009277344], [286.8495788574219], [287.9405822753906], [287.4849548339844], [288.1573791503906], [289.04864501953125], [292.03668212890625], [291.9219970703125], [293.32427978515625], [292.5577087402344], [292.197021484375], [291.7140808105469], [291.3213806152344], [290.27825927734375], [289.03790283203125], [287.8352355957031], [286.8134765625], [284.2440185546875], [283.4239807128906], [283.29931640625], [285.2500915527344], [284.9221496582031], [287.1463317871094], [290.7789001464844], [291.4485778808594], [291.193359375], [289.9485778808594], [290.07940673828125], [288.89276123046875], [292.0494384765625], [292.2214660644531], [291.46490478515625], [291.64617919921875], [291.3452453613281], [289.6978454589844], [289.6578063964844], [289.2477111816406], [290.71502685546875], [290.4183349609375], [290.4394836425781], [290.8709411621094], [291.4095764160156], [292.42706298828125], [289.6663513183594], [288.6868591308594], [290.21636962890625], [290.03167724609375], [288.0511169433594], [286.4372863769531], [286.7574462890625], [287.8243103027344], [287.6396789550781], [292.1754455566406], [292.654052734375], [294.9346618652344], [296.19122314453125], [296.8353271484375], [297.2226867675781], [295.4569396972656], [297.0837707519531], [295.939208984375], [298.0408630371094], [301.2523193359375], [303.4875183105469], [307.7333679199219], [308.9647216796875], [307.2053527832031], [308.8898010253906], [308.4477233886719], [307.27252197265625], [305.80487060546875], [303.8741149902344], [302.2185974121094], [306.99029541015625], [310.29888916015625], [309.3956298828125], [308.4355163574219], [309.3928527832031], [308.4476623535156], [307.3396301269531], [306.4283447265625], [307.551025390625], [307.10333251953125], [308.7001953125], [309.7598571777344], [308.88287353515625], [306.4793701171875], [307.20184326171875], [308.45574951171875], [311.2656555175781], [313.1262512207031], [313.95501708984375], [312.0716552734375], [309.7369384765625], [306.6200256347656], [307.4610595703125], [309.4298095703125], [309.4045715332031], [310.58294677734375], [309.9311218261719], [306.7774963378906], [306.5736999511719], [306.8692932128906], [305.5732116699219], [304.83154296875], [305.582275390625], [305.4962158203125], [303.93701171875], [304.6156921386719], [301.85638427734375], [304.4510192871094], [306.07110595703125], [306.3548889160156], [305.6571350097656], [304.1875915527344], [307.3706359863281], [307.3628845214844], [304.9049377441406], [312.4737243652344], [313.5258483886719], [312.516845703125], [311.398681640625], [313.52032470703125], [314.1104431152344], [313.1783752441406], [313.5957336425781], [312.2263488769531], [309.5287170410156], [306.9056396484375], [303.9214172363281], [302.81207275390625], [298.49847412109375], [299.88067626953125], [304.1659240722656], [307.6891174316406], [308.2132263183594], [307.7907409667969], [304.7659606933594], [306.0081481933594], [305.7143249511719], [307.9704284667969], [306.8843078613281], [303.62890625], [301.0492858886719], [298.51080322265625], [302.9447326660156], [303.420654296875], [308.02764892578125], [313.203857421875], [316.6725769042969], [321.7846984863281], [322.9211120605469], [322.8658752441406], [326.66326904296875], [325.6479797363281], [323.7830505371094], [321.2583312988281], [320.9266662597656], [317.4891052246094], [318.7633361816406], [319.0547790527344], [318.6198425292969], [319.01324462890625], [317.3074951171875], [316.42041015625], [315.793701171875], [317.2006530761719], [319.50079345703125], [320.4781799316406], [318.6982116699219], [315.14776611328125], [316.7034606933594], [316.759033203125], [315.2562255859375], [311.5206604003906], [309.88726806640625], [311.75048828125], [311.0865173339844], [314.87030029296875], [316.6344299316406], [316.3812561035156], [316.0684509277344], [315.2757568359375], [316.3363037109375], [315.13201904296875], [315.3335266113281], [315.2691345214844], [314.3360595703125], [314.746337890625], [318.7710876464844], [318.8840637207031], [315.3086242675781], [315.0823669433594], [319.8953552246094], [320.9935302734375], [319.18133544921875], [323.3079528808594], [324.0355529785156], [324.19451904296875], [322.80841064453125], [322.2236633300781], [323.28778076171875], [323.5899963378906], [321.6804504394531], [322.2887878417969], [323.28118896484375], [324.4697265625], [325.3802795410156], [325.9464416503906], [325.26702880859375], [325.6463928222656], [326.9972839355469], [326.198486328125], [326.71710205078125], [323.1567687988281], [319.93756103515625], [318.9297180175781], [317.3208312988281], [318.4546203613281], [318.4723815917969], [318.5079650878906], [318.15643310546875], [316.4041442871094], [317.5960998535156], [318.2870178222656], [317.6568908691406], [317.0969543457031], [317.7562255859375], [316.5433044433594], [313.4442138671875], [308.3832702636719], [305.7802734375], [305.69525146484375], [305.9999084472656], [307.2622375488281], [307.6626281738281], [308.7726745605469], [309.3644104003906], [309.5450134277344], [309.99383544921875], [306.41412353515625], [304.62255859375], [302.97064208984375], [302.9078369140625], [302.4602966308594], [300.3911437988281], [299.4761657714844], [296.8422546386719], [296.771240234375], [297.2221984863281], [299.8182678222656], [300.77130126953125], [301.6628112792969], [301.266357421875], [301.88507080078125], [303.5029602050781], [303.508056640625], [302.5074462890625], [302.0561218261719], [301.26556396484375], [301.2151794433594], [301.68206787109375], [300.36456298828125], [298.2488098144531], [296.2978515625], [300.1568908691406], [302.2328796386719], [304.759521484375], [305.65106201171875], [305.41680908203125], [304.6669006347656], [308.68243408203125], [309.3638916015625], [306.99114990234375], [306.0748596191406], [311.1138916015625], [311.5633850097656], [311.12164306640625], [312.5177917480469], [312.9642333984375], [311.9680480957031], [310.4410400390625], [310.0758972167969], [310.06640625], [309.08941650390625], [307.9786682128906], [305.7951354980469], [305.3437805175781], [303.9424133300781], [302.8905029296875], [303.6444091796875], [303.86224365234375], [302.7639465332031], [303.8943786621094], [304.0295104980469], [304.45343017578125], [303.3681335449219], [304.01708984375], [304.270263671875], [303.0028076171875], [302.0404052734375], [300.6139221191406], [301.61248779296875], [301.5083923339844], [299.85272216796875], [299.3359375], [300.4374694824219], [300.8057556152344], [299.3611755371094], [301.23602294921875], [299.8309020996094], [298.6617126464844], [299.847900390625], [300.7346496582031], [297.9338073730469], [297.4504089355469], [297.8445129394531], [299.3134460449219], [299.8394470214844], [298.46844482421875], [295.59027099609375], [294.8450012207031], [294.5719909667969], [292.5804748535156], [292.1337585449219], [292.9187316894531], [293.3521423339844], [292.6986083984375], [292.0447082519531], [293.1347961425781], [291.0775146484375], [292.8561706542969], [288.59503173828125], [284.87890625], [282.75518798828125], [282.6297302246094], [282.22320556640625], [280.8659362792969], [278.0003356933594], [275.94342041015625], [274.1573486328125], [272.8899841308594], [273.8116149902344], [274.1653747558594], [273.4876403808594], [274.4930419921875], [273.091064453125], [271.94342041015625], [273.0567932128906], [274.9101867675781], [275.5826110839844], [276.3578796386719], [276.7753601074219], [277.3696594238281], [276.9163513183594], [277.4005126953125], [277.8247375488281], [277.4253845214844], [276.57330322265625], [277.71636962890625], [278.5976867675781], [278.484130859375], [279.138671875], [277.32183837890625], [277.3702087402344], [276.5466613769531], [274.63330078125], [274.0328063964844], [272.4104309082031], [269.66162109375], [268.37957763671875], [268.7757263183594], [268.6903381347656], [267.4344787597656], [266.5399475097656], [268.47210693359375], [267.5904235839844], [266.101806640625], [266.7689208984375], [269.0889892578125], [269.7155456542969], [268.9858703613281], [267.1168518066406], [266.07110595703125], [266.0878601074219], [266.0789489746094], [265.3039245605469], [265.5511779785156], [265.6816711425781], [264.99261474609375], [264.7220458984375], [265.63031005859375], [266.3706359863281], [266.0194396972656], [265.54815673828125], [266.240966796875], [265.6241149902344], [266.8494567871094], [265.86639404296875], [264.6528015136719], [264.2900390625], [263.9593505859375], [264.60302734375], [264.42138671875], [264.3783874511719], [263.59881591796875], [264.5228576660156], [266.4374694824219], [265.72784423828125], [262.1560974121094], [261.01312255859375], [260.9503173828125], [260.1235046386719], [260.36065673828125], [260.4388427734375], [258.6260986328125], [257.64361572265625], [257.4281311035156], [259.3523254394531], [259.6788330078125], [259.1941223144531], [259.28656005859375], [259.6175842285156], [260.0806579589844], [259.7518615722656], [259.967041015625], [259.4041748046875], [259.4877624511719], [259.3750305175781], [258.6723327636719], [258.5090637207031], [259.30206298828125], [255.86868286132812], [253.77154541015625], [251.32745361328125], [251.0424041748047], [252.26766967773438], [252.4801025390625], [251.32510375976562], [250.8867950439453], [250.5740966796875], [250.38050842285156], [251.4105682373047], [251.02333068847656], [248.77374267578125], [248.37503051757812], [248.86097717285156], [248.93569946289062], [248.02584838867188], [248.1287841796875], [249.68472290039062], [252.49476623535156], [249.66355895996094], [251.62100219726562], [252.83238220214844], [251.57460021972656], [251.02015686035156], [251.0938262939453], [253.3087158203125], [254.0955352783203], [254.32420349121094], [254.4459686279297], [253.80638122558594], [255.59629821777344], [257.09832763671875], [255.83819580078125], [255.83547973632812], [256.08465576171875], [256.0268859863281], [254.7233123779297], [253.44850158691406], [252.39105224609375], [253.64212036132812], [254.22262573242188], [256.8787841796875], [257.7055358886719], [258.31298828125], [257.17071533203125], [256.8703918457031], [255.94943237304688], [257.49713134765625], [256.8143005371094], [257.0343017578125], [255.89093017578125], [255.95542907714844], [256.1887512207031], [255.0025634765625], [253.48072814941406], [252.32427978515625], [250.68426513671875], [249.2957305908203], [253.4339599609375], [257.7144470214844], [258.1073913574219], [258.0096130371094], [257.4335632324219], [255.37432861328125], [254.37286376953125], [254.88128662109375], [255.54434204101562], [254.8679656982422], [254.21990966796875], [254.78868103027344], [255.1771240234375], [255.91830444335938], [255.39410400390625], [256.0245666503906], [256.08258056640625], [254.62525939941406], [254.10458374023438], [254.22955322265625], [254.31105041503906], [253.72962951660156], [253.71360778808594], [252.675537109375], [251.0647735595703], [248.54495239257812], [247.34007263183594], [249.3846435546875], [251.57460021972656], [250.39743041992188], [249.75497436523438], [250.4996337890625], [251.01385498046875], [249.68971252441406], [248.6303253173828], [248.7466583251953], [249.11026000976562], [249.3403778076172], [249.67080688476562], [249.4441375732422], [248.5043487548828], [247.8158721923828], [246.346923828125], [245.69012451171875], [243.34706115722656], [243.0686798095703], [241.60498046875]]\n"
          ],
          "name": "stdout"
        }
      ]
    },
    {
      "cell_type": "code",
      "metadata": {
        "id": "I61iaEThcxh5",
        "colab_type": "code",
        "outputId": "afd30a6f-a3c0-40a9-d032-6c54fcedeb8f",
        "colab": {
          "base_uri": "https://localhost:8080/",
          "height": 295
        }
      },
      "source": [
        "plt.plot(time, real_stock_price[:len(real_stock_price)-20], color = 'blue', label = 'KOSPI2 Price')\n",
        "plt.plot(time, predicted_stock_price, color = 'red', label = 'Predicted KOSPI200 Price')\n",
        "plt.title('KOSPI2 Price Prediction')\n",
        "plt.xlabel('Time')\n",
        "plt.ylabel('KOSPI 200 Price')\n",
        "plt.legend()\n",
        "plt.show()"
      ],
      "execution_count": 0,
      "outputs": [
        {
          "output_type": "display_data",
          "data": {
            "image/png": "[encoded data removed]",
            "text/plain": [
              "<Figure size 432x288 with 1 Axes>"
            ]
          },
          "metadata": {
            "tags": [],
            "needs_background": "light"
          }
        }
      ]
    },
    {
      "cell_type": "code",
      "metadata": {
        "id": "7WFx-TF2jwzu",
        "colab_type": "code",
        "colab": {}
      },
      "source": [
        ""
      ],
      "execution_count": 0,
      "outputs": []
    },
    {
      "cell_type": "markdown",
      "metadata": {
        "id": "nQWwWBgms3DF",
        "colab_type": "text"
      },
      "source": [
        "### Check the difference between Predicted and Real Index Price"
      ]
    },
    {
      "cell_type": "code",
      "metadata": {
        "id": "WiH_PmijteaX",
        "colab_type": "code",
        "colab": {}
      },
      "source": [
        ""
      ],
      "execution_count": 0,
      "outputs": []
    },
    {
      "cell_type": "code",
      "metadata": {
        "id": "6pGOH5Yxs9ZI",
        "colab_type": "code",
        "colab": {}
      },
      "source": [
        "difference = real_stock_price - predicted_stock_price"
      ],
      "execution_count": 0,
      "outputs": []
    },
    {
      "cell_type": "code",
      "metadata": {
        "id": "7-atYwaQtHbi",
        "colab_type": "code",
        "outputId": "9c412cff-305c-486e-9efa-faa5800b58a4",
        "colab": {
          "base_uri": "https://localhost:8080/",
          "height": 295
        }
      },
      "source": [
        "\n",
        "plt.plot(time, difference, color = 'red', label = 'Real - Prediction')\n",
        "plt.title('KOSPI2 Price Prediction')\n",
        "plt.xlabel('Time')\n",
        "plt.ylabel('KOSPI 200 Price')\n",
        "plt.legend()\n",
        "plt.show()"
      ],
      "execution_count": 0,
      "outputs": [
        {
          "output_type": "display_data",
          "data": {
            "image/png": "[encoded data removed]",
            "text/plain": [
              "<Figure size 432x288 with 1 Axes>"
            ]
          },
          "metadata": {
            "tags": [],
            "needs_background": "light"
          }
        }
      ]
    },
    {
      "cell_type": "code",
      "metadata": {
        "id": "JAWq4ivptTpK",
        "colab_type": "code",
        "colab": {}
      },
      "source": [
        ""
      ],
      "execution_count": 0,
      "outputs": []
    },
    {
      "cell_type": "markdown",
      "metadata": {
        "id": "iWPwzclUur3b",
        "colab_type": "text"
      },
      "source": [
        "### Comparing with Moving Average"
      ]
    },
    {
      "cell_type": "code",
      "metadata": {
        "id": "sHAzI7gcuv9c",
        "colab_type": "code",
        "outputId": "8c8a8963-6bef-4f46-b113-dd220c79f7b8",
        "colab": {
          "base_uri": "https://localhost:8080/",
          "height": 195
        }
      },
      "source": [
        "dataset[\"Date\"] = pd.to_datetime(dataset[\"Date\"])\n",
        "moving_average = dataset.sort_values('Date', ascending=True)\n",
        "\n",
        "moving_average[\"MA20\"] = moving_average.iloc[:,1].rolling(window = 20).mean()\n",
        "\n",
        "moving_average = moving_average.sort_values('Date', ascending=False)\n",
        "\n",
        "moving_average.head()"
      ],
      "execution_count": 0,
      "outputs": [
        {
          "output_type": "execute_result",
          "data": {
            "text/html": [
              "<div>\n",
              "<style scoped>\n",
              "    .dataframe tbody tr th:only-of-type {\n",
              "        vertical-align: middle;\n",
              "    }\n",
              "\n",
              "    .dataframe tbody tr th {\n",
              "        vertical-align: top;\n",
              "    }\n",
              "\n",
              "    .dataframe thead th {\n",
              "        text-align: right;\n",
              "    }\n",
              "</style>\n",
              "<table border=\"1\" class=\"dataframe\">\n",
              "  <thead>\n",
              "    <tr style=\"text-align: right;\">\n",
              "      <th></th>\n",
              "      <th>Date</th>\n",
              "      <th>Price</th>\n",
              "      <th>Open</th>\n",
              "      <th>High</th>\n",
              "      <th>Low</th>\n",
              "      <th>Vol.</th>\n",
              "      <th>Change %</th>\n",
              "      <th>MA20</th>\n",
              "    </tr>\n",
              "  </thead>\n",
              "  <tbody>\n",
              "    <tr>\n",
              "      <th>0</th>\n",
              "      <td>2020-06-03</td>\n",
              "      <td>282.22</td>\n",
              "      <td>279.14</td>\n",
              "      <td>282.37</td>\n",
              "      <td>279.14</td>\n",
              "      <td>81.18K</td>\n",
              "      <td>2.22%</td>\n",
              "      <td>262.5905</td>\n",
              "    </tr>\n",
              "    <tr>\n",
              "      <th>1</th>\n",
              "      <td>2020-06-02</td>\n",
              "      <td>276.08</td>\n",
              "      <td>272.65</td>\n",
              "      <td>276.45</td>\n",
              "      <td>272.22</td>\n",
              "      <td>247.72K</td>\n",
              "      <td>1.06%</td>\n",
              "      <td>261.2295</td>\n",
              "    </tr>\n",
              "    <tr>\n",
              "      <th>2</th>\n",
              "      <td>2020-06-01</td>\n",
              "      <td>273.19</td>\n",
              "      <td>269.29</td>\n",
              "      <td>273.39</td>\n",
              "      <td>268.93</td>\n",
              "      <td>171.51M</td>\n",
              "      <td>1.81%</td>\n",
              "      <td>259.9555</td>\n",
              "    </tr>\n",
              "    <tr>\n",
              "      <th>3</th>\n",
              "      <td>2020-05-29</td>\n",
              "      <td>268.32</td>\n",
              "      <td>266.62</td>\n",
              "      <td>269.61</td>\n",
              "      <td>265.23</td>\n",
              "      <td>269.47M</td>\n",
              "      <td>0.01%</td>\n",
              "      <td>259.2035</td>\n",
              "    </tr>\n",
              "    <tr>\n",
              "      <th>4</th>\n",
              "      <td>2020-05-28</td>\n",
              "      <td>268.29</td>\n",
              "      <td>270.17</td>\n",
              "      <td>271.44</td>\n",
              "      <td>264.85</td>\n",
              "      <td>248.93M</td>\n",
              "      <td>0.24%</td>\n",
              "      <td>258.6070</td>\n",
              "    </tr>\n",
              "  </tbody>\n",
              "</table>\n",
              "</div>"
            ],
            "text/plain": [
              "        Date   Price    Open    High     Low     Vol. Change %      MA20\n",
              "0 2020-06-03  282.22  279.14  282.37  279.14   81.18K    2.22%  262.5905\n",
              "1 2020-06-02  276.08  272.65  276.45  272.22  247.72K    1.06%  261.2295\n",
              "2 2020-06-01  273.19  269.29  273.39  268.93  171.51M    1.81%  259.9555\n",
              "3 2020-05-29  268.32  266.62  269.61  265.23  269.47M    0.01%  259.2035\n",
              "4 2020-05-28  268.29  270.17  271.44  264.85  248.93M    0.24%  258.6070"
            ]
          },
          "metadata": {
            "tags": []
          },
          "execution_count": 194
        }
      ]
    },
    {
      "cell_type": "code",
      "metadata": {
        "id": "xEoU_X-6vJ43",
        "colab_type": "code",
        "outputId": "b5a3d049-de64-4c6c-8420-9d3e71048949",
        "colab": {
          "base_uri": "https://localhost:8080/",
          "height": 295
        }
      },
      "source": [
        "plt.plot(time, real_stock_price[:test_data_size - 20], color = 'blue', label = 'KOSPI2 Price')\n",
        "plt.plot(time, predicted_stock_price, color = 'red', label = 'Predicted KOSPI200 Price')\n",
        "plt.plot(time, moving_average[\"MA20\"][:test_data_size - 20], color = 'green', label = '20 Days Moving Average')\n",
        "plt.title('KOSPI2 Price Prediction')\n",
        "plt.xlabel('Time')\n",
        "plt.ylabel('KOSPI 200 Price')\n",
        "plt.legend()\n",
        "plt.show()\n",
        "\n"
      ],
      "execution_count": 0,
      "outputs": [
        {
          "output_type": "display_data",
          "data": {
            "image/png": "[encoded data removed]",
            "text/plain": [
              "<Figure size 432x288 with 1 Axes>"
            ]
          },
          "metadata": {
            "tags": [],
            "needs_background": "light"
          }
        }
      ]
    },
    {
      "cell_type": "code",
      "metadata": {
        "id": "mu0dJ393vU_h",
        "colab_type": "code",
        "colab": {}
      },
      "source": [
        ""
      ],
      "execution_count": 0,
      "outputs": []
    }
  ]
}